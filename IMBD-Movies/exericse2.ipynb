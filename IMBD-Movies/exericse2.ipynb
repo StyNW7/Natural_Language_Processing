{
 "cells": [
  {
   "cell_type": "markdown",
   "id": "c0948691",
   "metadata": {},
   "source": [
    "# Import Library"
   ]
  },
  {
   "cell_type": "code",
   "execution_count": 26,
   "id": "496d8299",
   "metadata": {},
   "outputs": [],
   "source": [
    "from nltk.probability import FreqDist\n",
    "from nltk.tokenize import word_tokenize\n",
    "from nltk.corpus import stopwords\n",
    "from nltk.stem import SnowballStemmer, WordNetLemmatizer\n",
    "from nltk.classify import NaiveBayesClassifier, accuracy\n",
    "\n",
    "from sklearn.feature_extraction.text import TfidfVectorizer\n",
    "from sklearn.metrics.pairwise import cosine_similarity\n",
    "from gensim.models import Word2Vec\n",
    "\n",
    "import spacy\n",
    "import os\n",
    "import pickle\n",
    "import pandas as pd\n",
    "import numpy as np"
   ]
  },
  {
   "cell_type": "markdown",
   "id": "4911999c",
   "metadata": {},
   "source": [
    "# Setting Variables"
   ]
  },
  {
   "cell_type": "code",
   "execution_count": 27,
   "id": "26900713",
   "metadata": {},
   "outputs": [],
   "source": [
    "stemmer = SnowballStemmer(\"english\")\n",
    "lemmatizer = WordNetLemmatizer()\n",
    "eng_stopwords = set(stopwords.words(\"english\"))"
   ]
  },
  {
   "cell_type": "markdown",
   "id": "b5c9d775",
   "metadata": {},
   "source": [
    "# Read Data"
   ]
  },
  {
   "cell_type": "code",
   "execution_count": 28,
   "id": "6d3a15bf",
   "metadata": {},
   "outputs": [
    {
     "data": {
      "text/html": [
       "<div>\n",
       "<style scoped>\n",
       "    .dataframe tbody tr th:only-of-type {\n",
       "        vertical-align: middle;\n",
       "    }\n",
       "\n",
       "    .dataframe tbody tr th {\n",
       "        vertical-align: top;\n",
       "    }\n",
       "\n",
       "    .dataframe thead th {\n",
       "        text-align: right;\n",
       "    }\n",
       "</style>\n",
       "<table border=\"1\" class=\"dataframe\">\n",
       "  <thead>\n",
       "    <tr style=\"text-align: right;\">\n",
       "      <th></th>\n",
       "      <th>Title</th>\n",
       "      <th>Rating</th>\n",
       "      <th>Review</th>\n",
       "    </tr>\n",
       "  </thead>\n",
       "  <tbody>\n",
       "    <tr>\n",
       "      <th>0</th>\n",
       "      <td>The Idea of You</td>\n",
       "      <td>6.4</td>\n",
       "      <td>This film, as well as the reaction to it, is a...</td>\n",
       "    </tr>\n",
       "    <tr>\n",
       "      <th>1</th>\n",
       "      <td>Kingdom of the Planet of the Apes</td>\n",
       "      <td>7.3</td>\n",
       "      <td>I'm a big fan of all the planet of the apes, a...</td>\n",
       "    </tr>\n",
       "    <tr>\n",
       "      <th>2</th>\n",
       "      <td>Unfrosted</td>\n",
       "      <td>5.5</td>\n",
       "      <td>Pretty much the worst criticism you can lay on...</td>\n",
       "    </tr>\n",
       "    <tr>\n",
       "      <th>3</th>\n",
       "      <td>The Fall Guy</td>\n",
       "      <td>7.3</td>\n",
       "      <td>Just got out of the Austin premier at SXSW and...</td>\n",
       "    </tr>\n",
       "    <tr>\n",
       "      <th>4</th>\n",
       "      <td>Challengers</td>\n",
       "      <td>7.7</td>\n",
       "      <td>This is a tough one. I liked the concept and t...</td>\n",
       "    </tr>\n",
       "  </tbody>\n",
       "</table>\n",
       "</div>"
      ],
      "text/plain": [
       "                               Title  ...                                             Review\n",
       "0                    The Idea of You  ...  This film, as well as the reaction to it, is a...\n",
       "1  Kingdom of the Planet of the Apes  ...  I'm a big fan of all the planet of the apes, a...\n",
       "2                          Unfrosted  ...  Pretty much the worst criticism you can lay on...\n",
       "3                       The Fall Guy  ...  Just got out of the Austin premier at SXSW and...\n",
       "4                        Challengers  ...  This is a tough one. I liked the concept and t...\n",
       "\n",
       "[5 rows x 3 columns]"
      ]
     },
     "execution_count": 28,
     "metadata": {},
     "output_type": "execute_result"
    }
   ],
   "source": [
    "dataset = pd.read_csv(\"./Dataset/imdb-movies-dataset.csv\")\n",
    "dataset.head()"
   ]
  },
  {
   "cell_type": "code",
   "execution_count": 29,
   "id": "361a138d",
   "metadata": {},
   "outputs": [
    {
     "data": {
      "text/plain": [
       "Title     4971\n",
       "Rating    5151\n",
       "Review    5184\n",
       "dtype: int64"
      ]
     },
     "execution_count": 29,
     "metadata": {},
     "output_type": "execute_result"
    }
   ],
   "source": [
    "dataset.isnull().sum()"
   ]
  },
  {
   "cell_type": "code",
   "execution_count": 30,
   "id": "316d87aa",
   "metadata": {},
   "outputs": [],
   "source": [
    "dataset = dataset.dropna()"
   ]
  },
  {
   "cell_type": "code",
   "execution_count": 31,
   "id": "6bf80eef",
   "metadata": {},
   "outputs": [
    {
     "data": {
      "text/plain": [
       "Title     0\n",
       "Rating    0\n",
       "Review    0\n",
       "dtype: int64"
      ]
     },
     "execution_count": 31,
     "metadata": {},
     "output_type": "execute_result"
    }
   ],
   "source": [
    "dataset.isnull().sum()"
   ]
  },
  {
   "cell_type": "code",
   "execution_count": 32,
   "id": "cfa5929b",
   "metadata": {},
   "outputs": [],
   "source": [
    "dataset[\"Sentiment\"] = dataset[\"Rating\"].apply(lambda x : \"positive\" if x > 5 else \"negative\")"
   ]
  },
  {
   "cell_type": "code",
   "execution_count": 33,
   "id": "47941a51",
   "metadata": {},
   "outputs": [
    {
     "data": {
      "text/plain": [
       "Sentiment\n",
       "positive    4514\n",
       "negative     272\n",
       "Name: count, dtype: int64"
      ]
     },
     "execution_count": 33,
     "metadata": {},
     "output_type": "execute_result"
    }
   ],
   "source": [
    "dataset[\"Sentiment\"].value_counts()"
   ]
  },
  {
   "cell_type": "markdown",
   "id": "8d903ba9",
   "metadata": {},
   "source": [
    "# Data Preprocessing"
   ]
  },
  {
   "cell_type": "code",
   "execution_count": 34,
   "id": "ec28faa5",
   "metadata": {},
   "outputs": [],
   "source": [
    "def preprocess_text(sentence):\n",
    "\n",
    "    # Tokenize\n",
    "    word_list = word_tokenize(sentence)\n",
    "    word_list = [word.lower() for word in word_list]\n",
    "\n",
    "    # Stopwords\n",
    "    stop_words = [token for token in  word_list if token not in eng_stopwords]\n",
    "\n",
    "    # Remove punctuation\n",
    "    no_punc = [token for token in stop_words if token.isalpha()]\n",
    "\n",
    "    # Stemming\n",
    "    stemmed = [stemmer.stem(token) for token in no_punc]\n",
    "\n",
    "    lemmatized = [lemmatizer.lemmatize(token) for token in stemmed]\n",
    "\n",
    "    return lemmatized"
   ]
  },
  {
   "cell_type": "markdown",
   "id": "b7af684f",
   "metadata": {},
   "source": [
    "# Frequency Distribution"
   ]
  },
  {
   "cell_type": "code",
   "execution_count": 35,
   "id": "868c5bc3",
   "metadata": {},
   "outputs": [
    {
     "name": "stdout",
     "output_type": "stream",
     "text": [
      "[('film', 13735), ('movi', 13267), ('one', 6096), ('like', 5519), ('charact', 4285), ('time', 3934), ('make', 3703), ('see', 3621), ('stori', 3543), ('good', 3259)]\n"
     ]
    }
   ],
   "source": [
    "X = dataset[\"Review\"]\n",
    "Y = dataset[\"Sentiment\"]\n",
    "\n",
    "all_reviews = ' '.join(X)\n",
    "all_tokens = preprocess_text(all_reviews)\n",
    "\n",
    "freq_dist = FreqDist(all_tokens)\n",
    "print (freq_dist.most_common(10))"
   ]
  },
  {
   "cell_type": "markdown",
   "id": "4ef1af96",
   "metadata": {},
   "source": [
    "# Extract Features"
   ]
  },
  {
   "cell_type": "code",
   "execution_count": 36,
   "id": "8a8d8138",
   "metadata": {},
   "outputs": [],
   "source": [
    "def extract_features(review):\n",
    "\n",
    "    features = {}\n",
    "\n",
    "    for word in freq_dist.keys():\n",
    "        features[word] = (word in review)\n",
    "\n",
    "    return features"
   ]
  },
  {
   "cell_type": "code",
   "execution_count": 37,
   "id": "6d75f42f",
   "metadata": {},
   "outputs": [],
   "source": [
    "feature_sets = [(extract_features(preprocess_text(review)), sentiment) for (review, sentiment) in zip (X, Y)]\n",
    "from random import shuffle\n",
    "shuffle(feature_sets)"
   ]
  },
  {
   "cell_type": "markdown",
   "id": "f3f85613",
   "metadata": {},
   "source": [
    "# Load and Train Model : Naive Bayes Classifier"
   ]
  },
  {
   "cell_type": "code",
   "execution_count": 38,
   "id": "fe0977d9",
   "metadata": {},
   "outputs": [],
   "source": [
    "def train_and_save_model():\n",
    "\n",
    "    train_count = int(len(feature_sets)*0.8)\n",
    "    train_set = feature_sets[:train_count]\n",
    "    test_set = feature_sets[train_count:]\n",
    "\n",
    "    classifier = NaiveBayesClassifier.train(train_set)\n",
    "    test_accuracy = accuracy(classifier, test_set)\n",
    "    print (f\"Accuracy Model : {test_accuracy*100:.2f}%\")\n",
    "    classifier.show_most_informative_features(10)\n",
    "\n",
    "    file = open (\"./model.pickle\", \"wb\")\n",
    "    pickle.dump(classifier, file)\n",
    "    file.close()\n",
    "\n",
    "    return classifier\n",
    "\n",
    "def load_model():\n",
    "\n",
    "    if (os.path.exists(\"./model.pickle\")):\n",
    "\n",
    "        file = open (\"./model.pickle\", \"rb\")\n",
    "        classifier = pickle.load(file)\n",
    "        print (\"Model Load Successfully\")\n",
    "        file.close()\n",
    "\n",
    "    else:\n",
    "        print (\"Model not found! Training Model...\")\n",
    "        classifier = train_and_save_model()\n",
    "\n",
    "    return classifier\n"
   ]
  },
  {
   "cell_type": "markdown",
   "id": "997b82ec",
   "metadata": {},
   "source": [
    "# Word Embedding Language Model"
   ]
  },
  {
   "cell_type": "code",
   "execution_count": 39,
   "id": "62d5fba5",
   "metadata": {},
   "outputs": [],
   "source": [
    "def tf_idf(query):\n",
    "\n",
    "    vectorizer = TfidfVectorizer(stop_words=\"english\")\n",
    "    tf_idf_matrix = vectorizer.fit_transform(dataset[\"Review\"])\n",
    "\n",
    "    query_vec = vectorizer.transform([query])\n",
    "\n",
    "    similarity = cosine_similarity(tf_idf_matrix, query_vec).flatten()\n",
    "\n",
    "    dataset[\"Similarity\"] = similarity\n",
    "\n",
    "    dataset_sorted = dataset.sort_values(by=\"Similarity\", ascending=False)\n",
    "\n",
    "    print (f\"Top 2 Movies Recommendation\")\n",
    "    print (f\"1. {dataset_sorted.iloc[0,0]}\")\n",
    "    print (f\"2. {dataset_sorted.iloc[1,0]}\")"
   ]
  },
  {
   "cell_type": "markdown",
   "id": "fa2f10b1",
   "metadata": {},
   "source": [
    "# NER"
   ]
  },
  {
   "cell_type": "code",
   "execution_count": 40,
   "id": "c4b689d6",
   "metadata": {},
   "outputs": [],
   "source": [
    "paragraph = ' '.join(dataset[\"Review\"].head(500))\n",
    "\n",
    "nlp = spacy.load(\"en_core_web_sm\")\n",
    "\n",
    "doc = nlp(paragraph)\n",
    "\n",
    "categories = {}\n",
    "\n",
    "for ent in doc.ents:\n",
    "    label = ent.label_\n",
    "    if label not in categories:\n",
    "        categories[label] = []\n",
    "    categories[label].append(ent.text)"
   ]
  },
  {
   "cell_type": "markdown",
   "id": "f8b21c39",
   "metadata": {},
   "source": [
    "# Menu Function"
   ]
  },
  {
   "cell_type": "code",
   "execution_count": null,
   "id": "80ca21d6",
   "metadata": {},
   "outputs": [],
   "source": [
    "my_review = \"No Review\"\n",
    "my_category = \"Unknown\"\n",
    "\n",
    "def menu_1(loaded_classifier):\n",
    "\n",
    "    global my_review, my_category\n",
    "\n",
    "    query = input(\"Input Query : \")\n",
    "    word_list = word_tokenize(query)\n",
    "\n",
    "    if len(word_list) > 20:\n",
    "        my_review = query\n",
    "        preprocessed_text = preprocess_text(query)\n",
    "        extracted_features = extract_features(preprocessed_text)\n",
    "\n",
    "        my_category = loaded_classifier.classify(extracted_features)\n",
    "\n",
    "        print (\"Review Successfully Updated\")\n",
    "\n",
    "    else:\n",
    "        print (\"Input must be 20 words\")\n",
    "\n",
    "def menu_2():\n",
    "\n",
    "    if my_review == \"No Review\":\n",
    "        print (\"Please input review first\")\n",
    "    else:\n",
    "\n",
    "        print(\"\\nChoose Language Model\")\n",
    "        print(\"1. Word2Vec \\n2. TF-IDF \\n3. N-GRAM\")\n",
    "        chosen_model = input(\"Please choose your model\")\n",
    "\n",
    "        if (chosen_model == \"1\"):\n",
    "            tf_idf(my_review)\n",
    "        elif (chosen_model == \"2\"):\n",
    "            tf_idf(my_review)\n",
    "        elif (chosen_model == \"3\"):\n",
    "            tf_idf(my_review)\n",
    "        else:\n",
    "            print (\"Invalid Input!\")\n",
    "\n",
    "def menu_3():\n",
    "    print (\"NER:\\n\")\n",
    "    for label, ent in categories.items():\n",
    "        print (f\"{label}: {', '.join(ent)}\")\n"
   ]
  },
  {
   "cell_type": "markdown",
   "id": "e4611ab7",
   "metadata": {},
   "source": [
    "# Main Function"
   ]
  },
  {
   "cell_type": "code",
   "execution_count": 43,
   "id": "ad791dd6",
   "metadata": {},
   "outputs": [],
   "source": [
    "def main_menu():\n",
    "    loaded_classifier = load_model()\n",
    "\n",
    "    while True:\n",
    "        print (\"Movie Recommendation Application Based on Review\")\n",
    "        print (f\"Your Review: {my_review}\")\n",
    "        print (f\"My Category: {my_category}\")\n",
    "\n",
    "        print (\"1. Write your Review\\n2. View Movie Recommendation\\n3. View NER\\n4. Exit\")\n",
    "\n",
    "        try:\n",
    "            choice = input(\">> \")\n",
    "            if choice == '1':\n",
    "                menu_1(loaded_classifier)\n",
    "            elif (choice == '2'):\n",
    "                menu_2()\n",
    "            elif (choice == '3'):\n",
    "                menu_3()\n",
    "            elif (choice == '4'):\n",
    "                print (\"Exit Menu...\")\n",
    "                break\n",
    "            else:\n",
    "                print (\"Input Invalid!\")\n",
    "        except ValueError:\n",
    "            print (\"Input Invalid, please enter a valid number!\")"
   ]
  },
  {
   "cell_type": "code",
   "execution_count": 46,
   "id": "429a3f39",
   "metadata": {},
   "outputs": [
    {
     "name": "stdout",
     "output_type": "stream",
     "text": [
      "Model Load Successfully\n",
      "Movie Recommendation Application Based on Review\n",
      "Your Review: No Review\n",
      "My Category: Unknown\n",
      "1. Write your Review\n",
      "2. View Movie Recommendation\n",
      "3. View NER\n",
      "4. Exit\n"
     ]
    },
    {
     "ename": "TypeError",
     "evalue": "argument of type 'function' is not iterable",
     "output_type": "error",
     "traceback": [
      "\u001b[1;31m---------------------------------------------------------------------------\u001b[0m",
      "\u001b[1;31mTypeError\u001b[0m                                 Traceback (most recent call last)",
      "Cell \u001b[1;32mIn[46], line 1\u001b[0m\n\u001b[1;32m----> 1\u001b[0m \u001b[43mmain_menu\u001b[49m\u001b[43m(\u001b[49m\u001b[43m)\u001b[49m\n",
      "Cell \u001b[1;32mIn[43], line 14\u001b[0m, in \u001b[0;36mmain_menu\u001b[1;34m()\u001b[0m\n\u001b[0;32m     12\u001b[0m choice \u001b[38;5;241m=\u001b[39m \u001b[38;5;28minput\u001b[39m(\u001b[38;5;124m\"\u001b[39m\u001b[38;5;124m>> \u001b[39m\u001b[38;5;124m\"\u001b[39m)\n\u001b[0;32m     13\u001b[0m \u001b[38;5;28;01mif\u001b[39;00m choice \u001b[38;5;241m==\u001b[39m \u001b[38;5;124m'\u001b[39m\u001b[38;5;124m1\u001b[39m\u001b[38;5;124m'\u001b[39m:\n\u001b[1;32m---> 14\u001b[0m     \u001b[43mmenu_1\u001b[49m\u001b[43m(\u001b[49m\u001b[43mloaded_classifier\u001b[49m\u001b[43m)\u001b[49m\n\u001b[0;32m     15\u001b[0m \u001b[38;5;28;01melif\u001b[39;00m (choice \u001b[38;5;241m==\u001b[39m \u001b[38;5;124m'\u001b[39m\u001b[38;5;124m2\u001b[39m\u001b[38;5;124m'\u001b[39m):\n\u001b[0;32m     16\u001b[0m     menu_2()\n",
      "Cell \u001b[1;32mIn[45], line 14\u001b[0m, in \u001b[0;36mmenu_1\u001b[1;34m(loaded_classifier)\u001b[0m\n\u001b[0;32m     12\u001b[0m my_review \u001b[38;5;241m=\u001b[39m query\n\u001b[0;32m     13\u001b[0m preprocessed_text \u001b[38;5;241m=\u001b[39m preprocess_text(query)\n\u001b[1;32m---> 14\u001b[0m extracted_features \u001b[38;5;241m=\u001b[39m \u001b[43mextract_features\u001b[49m\u001b[43m(\u001b[49m\u001b[43mpreprocess_text\u001b[49m\u001b[43m)\u001b[49m\n\u001b[0;32m     16\u001b[0m my_category \u001b[38;5;241m=\u001b[39m loaded_classifier\u001b[38;5;241m.\u001b[39mclassify(extracted_features)\n\u001b[0;32m     18\u001b[0m \u001b[38;5;28mprint\u001b[39m (\u001b[38;5;124m\"\u001b[39m\u001b[38;5;124mReview Successfully Updated\u001b[39m\u001b[38;5;124m\"\u001b[39m)\n",
      "Cell \u001b[1;32mIn[36], line 6\u001b[0m, in \u001b[0;36mextract_features\u001b[1;34m(review)\u001b[0m\n\u001b[0;32m      3\u001b[0m features \u001b[38;5;241m=\u001b[39m {}\n\u001b[0;32m      5\u001b[0m \u001b[38;5;28;01mfor\u001b[39;00m word \u001b[38;5;129;01min\u001b[39;00m freq_dist\u001b[38;5;241m.\u001b[39mkeys():\n\u001b[1;32m----> 6\u001b[0m     features[word] \u001b[38;5;241m=\u001b[39m (\u001b[43mword\u001b[49m\u001b[43m \u001b[49m\u001b[38;5;129;43;01min\u001b[39;49;00m\u001b[43m \u001b[49m\u001b[43mreview\u001b[49m)\n\u001b[0;32m      8\u001b[0m \u001b[38;5;28;01mreturn\u001b[39;00m features\n",
      "\u001b[1;31mTypeError\u001b[0m: argument of type 'function' is not iterable"
     ]
    }
   ],
   "source": [
    "main_menu()"
   ]
  }
 ],
 "metadata": {
  "kernelspec": {
   "display_name": "Python 3",
   "language": "python",
   "name": "python3"
  },
  "language_info": {
   "codemirror_mode": {
    "name": "ipython",
    "version": 3
   },
   "file_extension": ".py",
   "mimetype": "text/x-python",
   "name": "python",
   "nbconvert_exporter": "python",
   "pygments_lexer": "ipython3",
   "version": "3.12.1"
  }
 },
 "nbformat": 4,
 "nbformat_minor": 5
}
