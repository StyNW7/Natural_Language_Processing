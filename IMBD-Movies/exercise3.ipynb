{
 "cells": [
  {
   "cell_type": "markdown",
   "id": "4a5e1b8e",
   "metadata": {},
   "source": [
    "# Import Library"
   ]
  },
  {
   "cell_type": "code",
   "execution_count": null,
   "id": "76a2d798",
   "metadata": {},
   "outputs": [],
   "source": [
    "from nltk.probability import FreqDist"
   ]
  },
  {
   "cell_type": "markdown",
   "id": "675272f2",
   "metadata": {},
   "source": [
    "# Setting Variables"
   ]
  },
  {
   "cell_type": "code",
   "execution_count": null,
   "id": "7cab3af1",
   "metadata": {},
   "outputs": [],
   "source": []
  },
  {
   "cell_type": "markdown",
   "id": "bf081de6",
   "metadata": {},
   "source": [
    "# Read Data"
   ]
  },
  {
   "cell_type": "markdown",
   "id": "f04c82d4",
   "metadata": {},
   "source": [
    "# Simple Cleaning"
   ]
  },
  {
   "cell_type": "markdown",
   "id": "d9cd3c73",
   "metadata": {},
   "source": [
    "# Data Preprocessing"
   ]
  },
  {
   "cell_type": "markdown",
   "id": "4a199750",
   "metadata": {},
   "source": [
    "# Frequency Distribution"
   ]
  },
  {
   "cell_type": "markdown",
   "id": "712d7855",
   "metadata": {},
   "source": [
    "# Feature Extraction"
   ]
  },
  {
   "cell_type": "markdown",
   "id": "ef7f844c",
   "metadata": {},
   "source": [
    "# Load and Training Model"
   ]
  },
  {
   "cell_type": "markdown",
   "id": "1fb83794",
   "metadata": {},
   "source": [
    "# Word Embedding Model"
   ]
  },
  {
   "cell_type": "markdown",
   "id": "b4fa314b",
   "metadata": {},
   "source": [
    "# NER"
   ]
  },
  {
   "cell_type": "markdown",
   "id": "ea5b5ffc",
   "metadata": {},
   "source": [
    "# Menu Function"
   ]
  },
  {
   "cell_type": "markdown",
   "id": "d5bec22b",
   "metadata": {},
   "source": [
    "# Main Function"
   ]
  }
 ],
 "metadata": {
  "kernelspec": {
   "display_name": "Python 3",
   "language": "python",
   "name": "python3"
  },
  "language_info": {
   "name": "python",
   "version": "3.12.1"
  }
 },
 "nbformat": 4,
 "nbformat_minor": 5
}
